{
 "cells": [
  {
   "cell_type": "markdown",
   "id": "1e4160f6-5d79-418a-a46f-4a50ec56db62",
   "metadata": {},
   "source": [
    "# Distributed PyTorch Training on OpenShift using KubeRay Operator and Intel® Extension for PyTorch*"
   ]
  },
  {
   "cell_type": "markdown",
   "id": "a20d3ca9-2f58-43b0-b7aa-2e80eb588ad0",
   "metadata": {
    "tags": []
   },
   "source": [
    "This notebook demonstrates utilizing the Intel Extension for PyTorch to optimize distributed workloads  on Intel hardware with RedHat OpenShift AI and KubeRay operator. For this demo we finetune a Large Language Model from HuggingFace tranformers on 2 or more nodes. The notebook uses codeflare SDK to create a Ray cluster and launch a distributed training job on it."
   ]
  },
  {
   "cell_type": "markdown",
   "id": "cbf33887-b3ad-4c0c-b5d7-7a3fd4ffa1fa",
   "metadata": {
    "tags": []
   },
   "source": [
    "## Install CodeFlare SDK"
   ]
  },
  {
   "cell_type": "code",
   "execution_count": null,
   "id": "60ae1703-9ebe-4fe5-8278-bede84609a8e",
   "metadata": {
    "tags": []
   },
   "outputs": [],
   "source": [
    "! pip install codeflare-sdk==0.14.1"
   ]
  },
  {
   "cell_type": "markdown",
   "id": "27db73de-d7ee-4587-91b7-25eaf4df51e5",
   "metadata": {
    "tags": []
   },
   "source": [
    "## Importing necessary codeflare SDK modules"
   ]
  },
  {
   "cell_type": "code",
   "execution_count": null,
   "id": "bded3130-c62c-4773-94bd-b008e2564900",
   "metadata": {
    "tags": []
   },
   "outputs": [],
   "source": [
    "from codeflare_sdk.cluster.cluster import Cluster, ClusterConfiguration\n",
    "from codeflare_sdk.cluster.auth import TokenAuthentication\n",
    "from codeflare_sdk.job.ray_jobs import RayJobClient"
   ]
  },
  {
   "cell_type": "markdown",
   "id": "262b0fc6-ca66-4c82-a439-65d03dc699b5",
   "metadata": {},
   "source": [
    "## Authenticating login to the OCP cluster\n",
    "\n",
    "\n",
    "**NOTE: Please fill in the value of variable auth_token below.**\n",
    "\n",
    "To find out the token please use the RedHat OpenShift Container Platform's online console."
   ]
  },
  {
   "cell_type": "code",
   "execution_count": null,
   "id": "6992dd4a",
   "metadata": {},
   "outputs": [],
   "source": [
    "#Variables for user to be set.\n",
    "\n",
    "auth_token = \"XXXX\"\n",
    "api_server = \"XXXX\"\n",
    "registry = \"XXXX\""
   ]
  },
  {
   "cell_type": "code",
   "execution_count": null,
   "id": "dc5c7791-a2fc-4b2d-af40-6b65ec8b976e",
   "metadata": {
    "tags": []
   },
   "outputs": [],
   "source": [
    "auth = TokenAuthentication(\n",
    "    token=auth_token,\n",
    "    server=api_server,\n",
    "    skip_tls=True)"
   ]
  },
  {
   "cell_type": "code",
   "execution_count": null,
   "id": "5a50572b-f237-4ca4-a2d0-91623504f846",
   "metadata": {
    "tags": []
   },
   "outputs": [],
   "source": [
    "auth.login()"
   ]
  },
  {
   "cell_type": "markdown",
   "id": "44dbaf70-3622-464f-8f0c-2e8df7a91611",
   "metadata": {
    "tags": []
   },
   "source": [
    "## Launch a Ray cluster using Codeflare SDK."
   ]
  },
  {
   "cell_type": "code",
   "execution_count": null,
   "id": "e7ba13aa-5608-489d-bbf3-e2d55f340295",
   "metadata": {
    "tags": []
   },
   "outputs": [],
   "source": [
    "cluster = Cluster(ClusterConfiguration(\n",
    "    name='ray-ipex-demo',\n",
    "    namespace='ray-ipex',\n",
    "    num_workers=2,\n",
    "    head_memory=20,\n",
    "    head_cpus=32,\n",
    "    min_cpus=32,\n",
    "    max_cpus=32,\n",
    "    min_memory=20,\n",
    "    max_memory=20,\n",
    "    num_gpus=0,\n",
    "    image=\"{0}/ray-ipex/ray-ipex:latest\".format(registry),\n",
    "    instascale=False,\n",
    "    openshift_oauth=True\n",
    "))"
   ]
  },
  {
   "cell_type": "code",
   "execution_count": null,
   "id": "1d75bc8b-76fd-4b3e-9946-154bfc823dc3",
   "metadata": {
    "tags": []
   },
   "outputs": [],
   "source": [
    "cluster.up()"
   ]
  },
  {
   "cell_type": "code",
   "execution_count": null,
   "id": "b71ba73a-a575-4bf0-99c1-e7bb07539189",
   "metadata": {
    "tags": []
   },
   "outputs": [],
   "source": [
    "#This call waits for cluster to be ready before going to the next instruction\n",
    "cluster.wait_ready()"
   ]
  },
  {
   "cell_type": "markdown",
   "id": "b1fbff39-468f-4a0c-8a4c-7b79807ae5ee",
   "metadata": {},
   "source": [
    "## List the details of the created Ray cluster and the dashboard access link."
   ]
  },
  {
   "cell_type": "code",
   "execution_count": null,
   "id": "dbbf6687-ce55-4739-8035-ec85dc06bee6",
   "metadata": {
    "tags": []
   },
   "outputs": [],
   "source": [
    "cluster.details()"
   ]
  },
  {
   "cell_type": "markdown",
   "id": "7811c17a-2eb5-4f20-9bea-cb612dc84c01",
   "metadata": {},
   "source": [
    "## Launch the distributed job"
   ]
  },
  {
   "cell_type": "code",
   "execution_count": null,
   "id": "115a5391-35d8-4eda-a488-02e2e92e27a7",
   "metadata": {
    "tags": []
   },
   "outputs": [],
   "source": [
    "# Gather the dashboard URL\n",
    "ray_dashboard = cluster.cluster_dashboard_uri()\n",
    "\n",
    "# Create the header for passing your bearer token\n",
    "header = {\n",
    "    'Authorization': f'Bearer {auth_token}'\n",
    "}\n",
    "\n",
    "# Initialize the RayJobClient\n",
    "client = RayJobClient(address=ray_dashboard, headers=header, verify=False)"
   ]
  },
  {
   "cell_type": "code",
   "execution_count": null,
   "id": "9cfd2432-a063-47dd-8b00-b4c676f742c2",
   "metadata": {
    "tags": []
   },
   "outputs": [],
   "source": [
    "# Submit the LLM finetuning job using the RayJobClient\n",
    "submission_id = client.submit_job(\n",
    "    entrypoint=\"python LLM.py\",\n",
    "    runtime_env={\"working_dir\": \"./\",\"pip\": \"requirementsLLM.txt\",\n",
    "                \"env_vars\": {'CCL_WORKER_COUNT': '1'}},\n",
    ")\n",
    "print(\"The Job's submission ID is: {} which can be used to stop or delete the job.\".format(submission_id))"
   ]
  },
  {
   "cell_type": "markdown",
   "id": "af738cf1-27ef-4be1-8a97-a8797b2bf074",
   "metadata": {},
   "source": [
    "## Print the logs from the running job"
   ]
  },
  {
   "cell_type": "code",
   "execution_count": null,
   "id": "09a1fb4b-d535-40de-9f1a-acf6fe0951d3",
   "metadata": {
    "scrolled": true,
    "tags": []
   },
   "outputs": [],
   "source": [
    "async for lines in client.tail_job_logs(submission_id):\n",
    "    print(lines, end=\"\") "
   ]
  },
  {
   "cell_type": "markdown",
   "id": "f4dce7dd-87ee-484a-b827-3fa67bbce931",
   "metadata": {},
   "source": [
    "#### NOTE: IF YOU WANT TO STOP OR DELETE THE JOB PLEASE UNCOMMENT THE CODE."
   ]
  },
  {
   "cell_type": "code",
   "execution_count": null,
   "id": "677d8843-88c8-4589-bb37-22a3cf922bd7",
   "metadata": {
    "tags": []
   },
   "outputs": [],
   "source": [
    "#client.stop_job(submission_id)\n",
    "#client.delete_job(submission_id)"
   ]
  },
  {
   "cell_type": "markdown",
   "id": "d83984b6-a8ab-4afd-8b7d-7afa40eb70a9",
   "metadata": {},
   "source": [
    "## Stopping the cluster once all jobs are finished."
   ]
  },
  {
   "cell_type": "code",
   "execution_count": null,
   "id": "8587a548-dcf0-4b19-9cdb-7c2a1bcbe184",
   "metadata": {
    "tags": []
   },
   "outputs": [],
   "source": [
    "cluster.down()"
   ]
  }
 ],
 "metadata": {
  "kernelspec": {
   "display_name": "pytorch-cpu",
   "language": "python",
   "name": "pytorch-cpu"
  },
  "language_info": {
   "codemirror_mode": {
    "name": "ipython",
    "version": 3
   },
   "file_extension": ".py",
   "mimetype": "text/x-python",
   "name": "python",
   "nbconvert_exporter": "python",
   "pygments_lexer": "ipython3",
   "version": "3.9.18"
  }
 },
 "nbformat": 4,
 "nbformat_minor": 5
}
