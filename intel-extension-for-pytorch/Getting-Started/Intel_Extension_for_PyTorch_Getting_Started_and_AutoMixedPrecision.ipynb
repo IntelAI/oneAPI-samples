{
 "cells": [
  {
   "cell_type": "code",
   "execution_count": null,
   "id": "8481b71e-1f69-4574-b483-cb8a62930f1a",
   "metadata": {},
   "outputs": [],
   "source": [
    "# =============================================================\n",
    "# Copyright © 2024 Intel Corporation\n",
    "# \n",
    "# SPDX-License-Identifier: MIT\n",
    "# ============================================================="
   ]
  },
  {
   "cell_type": "markdown",
   "id": "b35a82c9-42b5-4d51-9c3f-ccffe6f8fdcd",
   "metadata": {},
   "source": [
    "### NOTE: Before starting this notebook, please pick a jupyter kernel from dropdown from `pytorch-cpu` or `pytorch-gpu`. Choose the kernel depending on the hardware available to you. The `pytorch-gpu` kernel will only work on Intel® Flex/Max GPUs."
   ]
  },
  {
   "cell_type": "markdown",
   "id": "d26d6b97-e1f5-4dc8-926d-b3ccb7a141e6",
   "metadata": {},
   "source": [
    "# `Intel® Extension for PyTorch* Getting Started and Features` Sample\n",
    "\n",
    "\n",
    "\n",
    "## About Intel® Extension for PyTorch\n",
    "\n",
    "PyTorch* is a very popular framework for deep learning, while also compute-heavy package demanding perfromance optimizations. Intel and Facebook* having been collaborating to boost PyTorch* Performance for Intel hardware which includes [Intel GPUs](https://www.intel.com/content/www/us/en/products/details/discrete-gpus/data-center-gpu.html) and [Intel CPUs](https://www.intel.com/content/www/us/en/products/details/processors.html). The official PyTorch has been optimized using oneAPI Deep Neural Network Library (oneDNN) primitives by default.\n",
    "\n",
    "To deliver the latest and greatest  optimizations, Intel® Optimizations for Pytorch offers accelerations beyond the stock Pytorch via **Intel® Extension for PyTorch***(IPEX). IPEX is a Python package to extend the official PyTorch with optimizations for extra performance boost on Intel hardware. Most of the optimizations will be included in stock PyTorch releases eventually, and the intention of the extension is to deliver up-to-date features and optimizations for PyTorch on Intel hardware, examples include AVX-512 Vector Neural Network Instructions (AVX512 VNNI) and Intel® Advanced Matrix Extensions (Intel® AMX).\n",
    "\n",
    "More detailed tutorials are available at [Intel® Extension for PyTorch* online document website](https://intel.github.io/intel-extension-for-pytorch/).\n",
    "\n",
    "## Purpose\n",
    "This sample code shows how to get started with Intel® Extension for PyTorch as well as how to use AutoMixedPrecision with Intel® Extension for PyTorch.\n",
    "\n",
    "## Sample Table of Contents\n",
    "1. [Intel® Extension for PyTorch* Getting Started Sample](#sec-gs)\n",
    "2. [Intel® Extension for PyTorch* Auto Mixed Precision Sample](#sec-amp)\n",
    "3. [Intel® Neural Compressor for quantization](#sec-inc)"
   ]
  },
  {
   "cell_type": "markdown",
   "id": "c945c4e9-eb4e-4ded-8776-11b43df63971",
   "metadata": {},
   "source": [
    "<a id=\"sec-gs\"></a>\n",
    "## Getting Started"
   ]
  },
  {
   "cell_type": "markdown",
   "id": "a3d948ec-4a90-4b1a-9f9c-93fc430eafff",
   "metadata": {},
   "source": [
    "If you want to explore Intel® Extension for PyTorch, you just need to convert the model and input tensors to the extension device, then the extension will be enabled automatically. Take an example, the code as follows is a model without the extension.\n",
    "\n",
    "\n",
    "**Please run this sample in the Intel® PyTorch & Quantization Jupyter Kernel environment.**"
   ]
  },
  {
   "cell_type": "code",
   "execution_count": null,
   "id": "46a7ffdd-e9b4-4bf3-95a9-ab0bb6e5d84d",
   "metadata": {
    "tags": []
   },
   "outputs": [],
   "source": [
    "DEVICE=\"\"\n",
    "\n",
    "import intel_extension_for_pytorch as ipex\n",
    "\n",
    "if ipex.xpu.is_available() == True:\n",
    "    DEVICE=\"xpu\"\n",
    "else:\n",
    "    DEVICE=\"cpu\""
   ]
  },
  {
   "cell_type": "markdown",
   "id": "7ee02134-6598-4170-89d2-6a1211caf5b9",
   "metadata": {},
   "source": [
    "### PyTorch Model without Intel® Extension for PyTorch"
   ]
  },
  {
   "cell_type": "code",
   "execution_count": null,
   "id": "023a350e-47ab-4189-a016-df003e1df756",
   "metadata": {},
   "outputs": [],
   "source": [
    "import torch\n",
    "import torchvision.models as models\n",
    "\n",
    "model = models.resnet50(weights='ResNet50_Weights.DEFAULT')\n",
    "model.eval()\n",
    "data = torch.rand(128, 3, 224, 224)\n",
    "\n",
    "if DEVICE=='xpu':\n",
    "    model = model.to(DEVICE)\n",
    "    data = data.to(DEVICE)\n",
    "\n",
    "with torch.no_grad():\n",
    "    model(data)"
   ]
  },
  {
   "cell_type": "markdown",
   "id": "63e39ecb-2a24-4923-84e1-8e913cd6078f",
   "metadata": {},
   "source": [
    "### PyTorch Model with Intel® Extension for PyTorch\n",
    "\n",
    "You just need to transform the above python script with **a couple lines of code** as follows and then the extension will be enabled and accelerate the computation automatically:"
   ]
  },
  {
   "cell_type": "code",
   "execution_count": null,
   "id": "65a42a04-d86a-4082-854a-0cc16de6284e",
   "metadata": {},
   "outputs": [],
   "source": [
    "import torch\n",
    "import torchvision.models as models\n",
    "\n",
    "import intel_extension_for_pytorch as ipex\n",
    "\n",
    "model = models.resnet50(weights='ResNet50_Weights.DEFAULT')\n",
    "model.eval()\n",
    "data = torch.rand(128, 3, 224, 224)\n",
    "\n",
    "####################IPEX code changes#############################\n",
    "if DEVICE=='xpu':\n",
    "    model = model.to(DEVICE, memory_format=torch.channels_last)\n",
    "    data = data.to(DEVICE, memory_format=torch.channels_last)\n",
    "else:\n",
    "    model = model.to(memory_format=torch.channels_last)\n",
    "    data = data.to(memory_format=torch.channels_last)\n",
    "\n",
    "model = ipex.optimize(model, dtype=torch.float32)\n",
    "##################################################################\n",
    "\n",
    "with torch.no_grad():\n",
    "    model(data)"
   ]
  },
  {
   "cell_type": "markdown",
   "id": "8a0f348d-61a1-479f-b397-60f6997ce535",
   "metadata": {
    "tags": []
   },
   "source": [
    "<a id=\"sec-amp\"></a>\n",
    "## Automatically Mix Precision\n",
    "\n",
    "In addition, Intel® Extension for PyTorch supports the mixed precision. It means that some operators of a model may run with Float32 and some other operators may run with BFloat16 or INT8 to accelerate inference workload.\n",
    "\n",
    "Traditionally if you want to run a model with a low precision type, you need to convert the parameters and the input tensors to the low precision type manually. And if the model contains some operators that do not support the low precision type, then you have to convert back to Float32. Round after round until the model can run normally.\n",
    "\n",
    "**IPEX can simplify this procedure. You just need to enable the auto-mix-precision as follows, then you can benefit from the low precision. Currently, the extension  supports BFloat16.**\n",
    "\n",
    "### BFloat16 Example"
   ]
  },
  {
   "cell_type": "code",
   "execution_count": null,
   "id": "4ec4142d-94ed-4b24-bfbb-ff6b68cd85a2",
   "metadata": {},
   "outputs": [],
   "source": [
    "import torch\n",
    "import torchvision.models as models\n",
    "\n",
    "import intel_extension_for_pytorch as ipex\n",
    "\n",
    "model = models.resnet50(weights='ResNet50_Weights.DEFAULT')\n",
    "model.eval()\n",
    "data = torch.rand(128, 3, 224, 224, dtype=torch.bfloat16)\n",
    "\n",
    "if DEVICE=='xpu':\n",
    "    model = model.to(DEVICE, memory_format=torch.channels_last)\n",
    "    data = data.to(DEVICE, memory_format=torch.channels_last)\n",
    "else:\n",
    "    model = model.to(memory_format=torch.channels_last)\n",
    "    data = data.to(memory_format=torch.channels_last)\n",
    "\n",
    "####################IPEX code changes#############################\n",
    "model = ipex.optimize(model, dtype=torch.bfloat16)\n",
    "##################################################################\n",
    "\n",
    "with torch.no_grad(), torch.cpu.amp.autocast():\n",
    "    model(data)"
   ]
  },
  {
   "cell_type": "markdown",
   "id": "c43af1ee-dff9-4704-be45-020b06123708",
   "metadata": {},
   "source": [
    "<a id=\"sec-inc\"></a>\n",
    "## Intel® Neural Compressor\n",
    "In addition to Intel® Extension for PyTorch, this container also provides Intel® Neural Compressor(INC) package. You can use INC to perform model optimization like compressing the model size and optimizing the performance for CPUs and GPUs. INC provides quantization, pruning, and knowledge distillation to compress and optimize the model. More details about the Intel® Neural Compressor package can be found [in the documentation](https://intel.github.io/neural-compressor/latest/docs/source/get_started.html).\n",
    "\n",
    "##### NOTE: Intel Neural Compressor does not yet suppot XPU with torchvision models."
   ]
  },
  {
   "cell_type": "code",
   "execution_count": null,
   "id": "e86f85b9-dd79-4789-b0fb-3bd222d6b57d",
   "metadata": {
    "tags": []
   },
   "outputs": [],
   "source": [
    "from neural_compressor.data import DataLoader, Datasets\n",
    "from neural_compressor.config import PostTrainingQuantConfig\n",
    "from neural_compressor.quantization import fit\n",
    "\n",
    "import torch\n",
    "import torchvision.models as models\n",
    "import intel_extension_for_pytorch as ipex\n",
    "\n",
    "DEVICE=\"cpu\" #INC does not work with GPU as of now.\n",
    "\n",
    "dataset = Datasets('pytorch')['dummy'](shape=(1, 3, 224, 224))\n",
    "# Built-in calibration dataloader and evaluation dataloader for Quantization.\n",
    "dataloader = DataLoader(framework='pytorch', dataset=dataset)\n",
    "# Post Training Quantization Config\n",
    "config = PostTrainingQuantConfig(backend='ipex', device=DEVICE)\n",
    "model = models.resnet18(weights=models.ResNet18_Weights.DEFAULT)\n",
    "\n",
    "if DEVICE=='xpu':\n",
    "    model = model.to(DEVICE, memory_format=torch.channels_last)\n",
    "    \n",
    "# Just call fit to do quantization.\n",
    "q_model = fit(model=model,\n",
    "              conf=config,\n",
    "              calib_dataloader=dataloader)"
   ]
  },
  {
   "cell_type": "code",
   "execution_count": null,
   "id": "11dbfb50-cad2-43aa-8e7a-ade307cc7537",
   "metadata": {},
   "outputs": [],
   "source": [
    "print('[CODE_SAMPLE_COMPLETED_SUCCESFULLY]')"
   ]
  }
 ],
 "metadata": {
  "kernelspec": {
   "display_name": "pytorch-gpu",
   "language": "python",
   "name": "python3"
  },
  "language_info": {
   "codemirror_mode": {
    "name": "ipython",
    "version": 3
   },
   "file_extension": ".py",
   "mimetype": "text/x-python",
   "name": "python",
   "nbconvert_exporter": "python",
   "pygments_lexer": "ipython3",
   "version": "3.9.18"
  }
 },
 "nbformat": 4,
 "nbformat_minor": 5
}
